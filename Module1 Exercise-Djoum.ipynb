{
 "cells": [
  {
   "cell_type": "markdown",
   "metadata": {},
   "source": [
    "## Questions"
   ]
  },
  {
   "cell_type": "code",
   "execution_count": null,
   "metadata": {},
   "outputs": [],
   "source": [
    "1. What is a hardware?\n",
    "The physical parts of a computer."
   ]
  },
  {
   "cell_type": "markdown",
   "metadata": {},
   "source": []
  },
  {
   "cell_type": "markdown",
   "metadata": {},
   "source": [
    "2. What is a software?\n",
    "The set of instructions that can be stored and run by hardware."
   ]
  },
  {
   "cell_type": "markdown",
   "metadata": {},
   "source": []
  },
  {
   "cell_type": "markdown",
   "metadata": {},
   "source": [
    "3. Convert 10011001 to a decimal number\n",
    "153"
   ]
  },
  {
   "cell_type": "markdown",
   "metadata": {},
   "source": []
  },
  {
   "cell_type": "markdown",
   "metadata": {},
   "source": [
    "4. Convert 11101100 to a decimal number\n",
    "236"
   ]
  },
  {
   "cell_type": "markdown",
   "metadata": {},
   "source": []
  },
  {
   "cell_type": "markdown",
   "metadata": {},
   "source": [
    "5. Decode this secret message:\n",
    "01001100 01101111 01100111 01101001 01100011\n",
    "Logic"
   ]
  },
  {
   "cell_type": "markdown",
   "metadata": {},
   "source": []
  },
  {
   "cell_type": "markdown",
   "metadata": {},
   "source": [
    "6. Identify and explain stages of Programming.\n",
    "Analyze: Identify, divide and regroup. You identify the requirement for the product from the stakeholder. You divide the requirement into smaller pieces. Then you regroup with stakeholder to make sure that the requirement is accurately depicted.\n",
    "Plan: In this stage you define the IPO. The input, process and output. The input is the information/data. The process is the algorithm/pseudocode for that information/data. The output is the desired outcome.\n",
    "Code: Programming Language. Programming the required product in the programming language chosen in the plan section.\n",
    "Test: Going through the different testing cycles. Unit Testing ( testing each unit seperately). Systems Testing (testing the system as a whole). Intergration testing ( testing the system with other systems involved)\n",
    "Maintenance: Bug Fixes, enhancements, documentation. \n",
    "After the product is delivered, there maybe bugs in the product so bug fixes maybe needed. There maybe some enhancements required for the product as well. The documentation related to the product also needs to be created."
   ]
  },
  {
   "cell_type": "markdown",
   "metadata": {},
   "source": []
  },
  {
   "cell_type": "markdown",
   "metadata": {},
   "source": [
    "7. You need to write a program to compute total sales amount when sales tax is 5%. Identify IPO (inpt, process, output) for this program.\n",
    "Input:  salesprice\n",
    "process : salesprice + (saleprice * (.05))\n",
    "output : totalsales"
   ]
  },
  {
   "cell_type": "markdown",
   "metadata": {},
   "source": []
  },
  {
   "cell_type": "markdown",
   "metadata": {},
   "source": [
    "8. Identify IPO for converting liters to US gallons.\n",
    "Input:  liters\n",
    "process: liters/(3.785)\n",
    "output: gallons"
   ]
  },
  {
   "cell_type": "markdown",
   "metadata": {},
   "source": []
  },
  {
   "cell_type": "markdown",
   "metadata": {},
   "source": [
    "9. Identify IPO for computing a worker's pay. What information/data do you need?\n",
    "Input: the hours worked by worker, the pay per hour of work\n",
    "process: hours * pay per hour\n",
    "output: worker's pay"
   ]
  },
  {
   "cell_type": "markdown",
   "metadata": {},
   "source": []
  }
 ],
 "metadata": {
  "kernelspec": {
   "display_name": "Python 3",
   "language": "python",
   "name": "python3"
  },
  "language_info": {
   "codemirror_mode": {
    "name": "ipython",
    "version": 3
   },
   "file_extension": ".py",
   "mimetype": "text/x-python",
   "name": "python",
   "nbconvert_exporter": "python",
   "pygments_lexer": "ipython3",
   "version": "3.8.5"
  }
 },
 "nbformat": 4,
 "nbformat_minor": 4
}
